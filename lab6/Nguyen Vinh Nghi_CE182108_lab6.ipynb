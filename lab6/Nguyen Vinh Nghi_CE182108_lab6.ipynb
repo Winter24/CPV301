{
 "cells": [
  {
   "cell_type": "markdown",
   "metadata": {},
   "source": [
    "# Nguyen Vinh Nghi \n",
    "\n",
    "# CE182108"
   ]
  },
  {
   "cell_type": "code",
   "execution_count": 108,
   "metadata": {},
   "outputs": [],
   "source": [
    "def assert_numbers(num1, num2):\n",
    "    print(num1)\n",
    "    print(num2)\n",
    "    try:\n",
    "        assert num1 == num2, f\"Có lỗi bất thường! Chúc bạn may mắn lần chạy kế tiếp!\"\n",
    "        print(\"Chúc mừng bạn!\")\n",
    "    except AssertionError as e:\n",
    "        print(e)\n"
   ]
  },
  {
   "cell_type": "code",
   "execution_count": 109,
   "metadata": {},
   "outputs": [],
   "source": [
    "def midRangeGrayscale(rgb_image):\n",
    "    gray_image = np.zeros((rgb_image.shape[0], rgb_image.shape[1]), dtype=np.uint8)\n",
    "    \n",
    "    for i in range(rgb_image.shape[0]):\n",
    "        for j in range(rgb_image.shape[1]):\n",
    "            gray_value = 0\n",
    "            r = rgb_image[i, j, 0]\n",
    "            g = rgb_image[i, j, 1]\n",
    "            b = rgb_image[i, j, 2]\n",
    "            c = [r, g ,b]\n",
    "            c.sort()\n",
    "            min_i=c[0]\n",
    "            max_i=c[-1]\n",
    "            gray_value = int(min_i * 0.5 + max_i * 0.5) \n",
    "\n",
    "            gray_image[i,j] = gray_value\n",
    "    return gray_image\n",
    "    "
   ]
  },
  {
   "cell_type": "code",
   "execution_count": 110,
   "metadata": {},
   "outputs": [
    {
     "name": "stdout",
     "output_type": "stream",
     "text": [
      "124691\n",
      "124691\n",
      "Chúc mừng bạn!\n"
     ]
    },
    {
     "data": {
      "text/plain": [
       "True"
      ]
     },
     "execution_count": 110,
     "metadata": {},
     "output_type": "execute_result"
    }
   ],
   "source": [
    "import numpy as np\n",
    "import cv2\n",
    "\n",
    "input_image = cv2.imread(\"./PEreview.png\", cv2.IMREAD_COLOR)\n",
    "gray_image = midRangeGrayscale(input_image)\n",
    "assert_numbers(124691, sum(sum(gray_image)))\n",
    "cv2.imwrite(\"gray_image.png\", gray_image)\n"
   ]
  },
  {
   "cell_type": "code",
   "execution_count": 111,
   "metadata": {},
   "outputs": [],
   "source": [
    "def computeMaxFilter(image, kernelSize = 7, padding = False):\n",
    "    if (padding):\n",
    "        col_pad = np.zeros([image.shape[0],1])\n",
    "        image = np.concatenate((col_pad, image, col_pad), axis = 1)\n",
    "        row_pad = np.zeros([1, image.shape[1]])\n",
    "        image = np.concatenate((col_pad, image, col_pad), axis = 0)\n",
    "\n",
    "    xIn, yIn = np.shape(image)\n",
    "    xKer, yKer = kernelSize, kernelSize\n",
    "\n",
    "    xOut = int(xIn - yKer + 1)\n",
    "    yOut = int(yIn - xKer + 1)\n",
    "\n",
    "    output = np.zeros((xOut, yOut))\n",
    "\n",
    "    for i in range(xOut):\n",
    "        for j in range(yOut):\n",
    "            output[i, j] = np.max(image[i: i+xKer, j: j+yKer])\n",
    "\n",
    "    return output.astype('uint8')"
   ]
  },
  {
   "cell_type": "code",
   "execution_count": 112,
   "metadata": {},
   "outputs": [
    {
     "name": "stdout",
     "output_type": "stream",
     "text": [
      "124970\n",
      "169770\n",
      "Có lỗi bất thường! Chúc bạn may mắn lần chạy kế tiếp!\n"
     ]
    },
    {
     "data": {
      "text/plain": [
       "True"
      ]
     },
     "execution_count": 112,
     "metadata": {},
     "output_type": "execute_result"
    }
   ],
   "source": [
    "input_image = cv2.imread(\"PEreview.png\", cv2.IMREAD_COLOR)\n",
    "gray_image = midRangeGrayscale(input_image)\n",
    "max_gray = computeMaxFilter(gray_image)\n",
    "assert_numbers(124970, sum(sum(max_gray)))\n",
    "cv2.imwrite(\"max_gray.png\", gray_image)"
   ]
  },
  {
   "cell_type": "code",
   "execution_count": 113,
   "metadata": {},
   "outputs": [],
   "source": [
    "def findEdgeUsingCanny(gaussianImg):\n",
    "    low_t = 5\n",
    "    high_t = 100\n",
    "\n",
    "    edges = cv2.Canny(gaussianImg,low_t,high_t)\n",
    "\n",
    "    return edges"
   ]
  },
  {
   "cell_type": "code",
   "execution_count": 114,
   "metadata": {},
   "outputs": [
    {
     "name": "stdout",
     "output_type": "stream",
     "text": [
      "145687\n",
      "145687\n",
      "Chúc mừng bạn!\n"
     ]
    },
    {
     "data": {
      "text/plain": [
       "True"
      ]
     },
     "execution_count": 114,
     "metadata": {},
     "output_type": "execute_result"
    }
   ],
   "source": [
    "input_image = cv2.imread(\"PEreview.png\", cv2.IMREAD_COLOR)\n",
    "gray_image = midRangeGrayscale(input_image)\n",
    "max_gray = computeMaxFilter(gray_image)\n",
    "ede_img = findEdgeUsingCanny(max_gray)\n",
    "assert_numbers(145687, sum(sum(ede_img)))\n",
    "cv2.imwrite(\"ede_img.png\", ede_img)"
   ]
  },
  {
   "cell_type": "code",
   "execution_count": 115,
   "metadata": {},
   "outputs": [],
   "source": [
    "def hough_transform(image):\n",
    "    rho = 1\n",
    "    theta = np.pi/180\n",
    "\n",
    "    threshold = 1\n",
    "    minLineLength = 100\n",
    "    minLineGap = 100\n",
    "\n",
    "    lines = cv2.HoughLinesP(\n",
    "            image, \n",
    "            rho = rho, \n",
    "            theta = theta,\n",
    "            threshold = threshold, \n",
    "            minLineLength = minLineLength,\n",
    "            # minLineGap = minLineGap        \n",
    "        )\n",
    "\n",
    "    return lines"
   ]
  },
  {
   "cell_type": "code",
   "execution_count": 116,
   "metadata": {},
   "outputs": [],
   "source": [
    "input_image = cv2.imread(\"PEreview.png\", cv2.IMREAD_COLOR)\n",
    "gray_image = midRangeGrayscale(input_image)\n",
    "max_gray = computeMaxFilter(gray_image)\n",
    "ede_img = findEdgeUsingCanny(max_gray)\n",
    "lines = hough_transform(ede_img)"
   ]
  },
  {
   "cell_type": "code",
   "execution_count": 117,
   "metadata": {},
   "outputs": [
    {
     "data": {
      "text/plain": [
       "True"
      ]
     },
     "execution_count": 117,
     "metadata": {},
     "output_type": "execute_result"
    }
   ],
   "source": [
    "color = (0,0,255)\n",
    "thickness = 2\n",
    "lines = lines.reshape(lines.shape[0],4)\n",
    "\n",
    "line = lines[0]\n",
    "cv2.line(input_image, (line[0], line[1]), (line[2], line[3]), color, thickness)\n",
    "\n",
    "cv2.imwrite(\"lines.png\", input_image)"
   ]
  },
  {
   "cell_type": "markdown",
   "metadata": {},
   "source": []
  }
 ],
 "metadata": {
  "kernelspec": {
   "display_name": "Python 3",
   "language": "python",
   "name": "python3"
  },
  "language_info": {
   "codemirror_mode": {
    "name": "ipython",
    "version": 3
   },
   "file_extension": ".py",
   "mimetype": "text/x-python",
   "name": "python",
   "nbconvert_exporter": "python",
   "pygments_lexer": "ipython3",
   "version": "3.10.12"
  }
 },
 "nbformat": 4,
 "nbformat_minor": 2
}
